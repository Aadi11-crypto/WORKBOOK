{
  "nbformat": 4,
  "nbformat_minor": 0,
  "metadata": {
    "colab": {
      "provenance": [],
      "mount_file_id": "1pM_VRNpboYplq0xKPkboDi3d8ryluXdH",
      "authorship_tag": "ABX9TyPXS3U0ABPaD4P6tRdKQBSq",
      "include_colab_link": true
    },
    "kernelspec": {
      "name": "python3",
      "display_name": "Python 3"
    },
    "language_info": {
      "name": "python"
    }
  },
  "cells": [
    {
      "cell_type": "markdown",
      "metadata": {
        "id": "view-in-github",
        "colab_type": "text"
      },
      "source": [
        "<a href=\"https://colab.research.google.com/github/Aadi11-crypto/WORKBOOK/blob/main/Copy_of_ProbE.ipynb\" target=\"_parent\"><img src=\"https://colab.research.google.com/assets/colab-badge.svg\" alt=\"Open In Colab\"/></a>"
      ]
    },
    {
      "cell_type": "code",
      "execution_count": null,
      "metadata": {
        "id": "xIYh5QI6V4oC"
      },
      "outputs": [],
      "source": [
        "import random\n",
        "from tqdm import tqdm\n"
      ]
    },
    {
      "cell_type": "code",
      "source": [
        "N_TRIALS = 10000000\n",
        "TARGET_SUM =2"
      ],
      "metadata": {
        "id": "jZN-Z_wTWU0w"
      },
      "execution_count": null,
      "outputs": []
    },
    {
      "cell_type": "code",
      "source": [
        "def main():\n",
        "  n_events = 0\n",
        "  for i in tqdm(range(N_TRIALS)):\n",
        "    dice_total = run_experiment()\n",
        "    if dice_total == TARGET_SUM:\n",
        "      n_events += 1\n",
        "    pr_e = n_events / N_TRIALS\n",
        "  print(f\"after {N_TRIALS} trials\")\n",
        "  print('P(E) = ', pr_e)"
      ],
      "metadata": {
        "id": "zbHsnAaqWcSp"
      },
      "execution_count": null,
      "outputs": []
    },
    {
      "cell_type": "code",
      "source": [
        "def run_experiment():\n",
        "  d_1 = roll_dice()\n",
        "  d_2 = roll_dice()\n",
        "  return d_1 + d_2"
      ],
      "metadata": {
        "id": "47uReX1tWtEJ"
      },
      "execution_count": null,
      "outputs": []
    },
    {
      "cell_type": "code",
      "source": [
        "def roll_dice():\n",
        "  return random.choice([1,2,3,4,5,6])"
      ],
      "metadata": {
        "id": "7mYLAVIsXYQB"
      },
      "execution_count": null,
      "outputs": []
    },
    {
      "cell_type": "code",
      "source": [
        "if __name__ == '__main__':\n",
        "  main()"
      ],
      "metadata": {
        "colab": {
          "base_uri": "https://localhost:8080/"
        },
        "id": "dd39nBeYXhu0",
        "outputId": "61f13490-c9b3-4411-8d32-529dcd088ea2"
      },
      "execution_count": null,
      "outputs": [
        {
          "output_type": "stream",
          "name": "stderr",
          "text": [
            "100%|██████████| 10000000/10000000 [00:21<00:00, 472614.84it/s]"
          ]
        },
        {
          "output_type": "stream",
          "name": "stdout",
          "text": [
            "after 10000000 trials\n",
            "P(E) =  0.0278308\n"
          ]
        },
        {
          "output_type": "stream",
          "name": "stderr",
          "text": [
            "\n"
          ]
        }
      ]
    }
  ]
}