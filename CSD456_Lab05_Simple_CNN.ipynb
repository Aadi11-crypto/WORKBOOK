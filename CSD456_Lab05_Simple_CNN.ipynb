{
  "nbformat": 4,
  "nbformat_minor": 0,
  "metadata": {
    "colab": {
      "provenance": [],
      "include_colab_link": true
    },
    "kernelspec": {
      "name": "python3",
      "display_name": "Python 3"
    },
    "language_info": {
      "name": "python"
    }
  },
  "cells": [
    {
      "cell_type": "markdown",
      "metadata": {
        "id": "view-in-github",
        "colab_type": "text"
      },
      "source": [
        "<a href=\"https://colab.research.google.com/github/Aadi11-crypto/WORKBOOK/blob/main/CSD456_Lab05_Simple_CNN.ipynb\" target=\"_parent\"><img src=\"https://colab.research.google.com/assets/colab-badge.svg\" alt=\"Open In Colab\"/></a>"
      ]
    },
    {
      "cell_type": "code",
      "execution_count": 2,
      "metadata": {
        "id": "ZXjFFCGdRZGD"
      },
      "outputs": [],
      "source": [
        "import torch\n",
        "from torch import nn\n",
        "from torch.nn import functional as F"
      ]
    },
    {
      "cell_type": "code",
      "source": [
        "from google.colab import drive\n",
        "drive.mount('/content/drive')"
      ],
      "metadata": {
        "colab": {
          "base_uri": "https://localhost:8080/"
        },
        "id": "O7TytFoDL8mI",
        "outputId": "dea6ca2c-ac46-4dc8-c38f-029ebd4b2ebc"
      },
      "execution_count": 1,
      "outputs": [
        {
          "output_type": "stream",
          "name": "stdout",
          "text": [
            "Mounted at /content/drive\n"
          ]
        }
      ]
    },
    {
      "cell_type": "code",
      "source": [
        "import torchvision"
      ],
      "metadata": {
        "id": "Nxc3MJcbf6SI"
      },
      "execution_count": 3,
      "outputs": []
    },
    {
      "cell_type": "markdown",
      "source": [
        "## Check GPU"
      ],
      "metadata": {
        "id": "AbyCp_nsR4g0"
      }
    },
    {
      "cell_type": "code",
      "source": [
        "def cpu():\n",
        "    \"\"\"Get the CPU device.\"\"\"\n",
        "    return torch.device('cpu')\n",
        "\n",
        "def gpu(i=0):\n",
        "    \"\"\"Get a GPU device.\"\"\"\n",
        "    return torch.device(f'cuda:{i}')\n",
        "\n",
        "def num_gpus():\n",
        "    \"\"\"Get the number of available GPUs.\"\"\"\n",
        "    return torch.cuda.device_count()\n",
        "\n",
        "def try_gpu(i=0):\n",
        "    \"\"\"Return gpu(i) if exists, otherwise return cpu().\"\"\"\n",
        "    if num_gpus() >= i + 1:\n",
        "        return gpu(i)\n",
        "    return cpu()\n",
        "\n",
        "def try_all_gpus():\n",
        "    \"\"\"Return all available GPUs, or [cpu(),] if no GPU exists.\"\"\"\n",
        "    return [gpu(i) for i in range(num_gpus())]\n",
        "\n",
        "try_gpu(), try_gpu(10), try_all_gpus()"
      ],
      "metadata": {
        "colab": {
          "base_uri": "https://localhost:8080/"
        },
        "id": "GBM9KGBKRtIL",
        "outputId": "22825bfa-1f31-4854-85f0-c998986a183e"
      },
      "execution_count": 4,
      "outputs": [
        {
          "output_type": "execute_result",
          "data": {
            "text/plain": [
              "(device(type='cpu'), device(type='cpu'), [])"
            ]
          },
          "metadata": {},
          "execution_count": 4
        }
      ]
    },
    {
      "cell_type": "markdown",
      "source": [
        "## Convolution function"
      ],
      "metadata": {
        "id": "6gb51Db2TDeV"
      }
    },
    {
      "cell_type": "code",
      "source": [
        "def corr2d(X, K):\n",
        "    \"\"\"Compute 2D cross-correlation.\"\"\"\n",
        "    \"\"\" X -> 2D image\n",
        "        K -> Kernel filter \"\"\"\n",
        "\n",
        "    h, w = K.shape\n",
        "    Y = torch.zeros((X.shape[0] - h + 1, X.shape[1] - w + 1))\n",
        "    for i in range(Y.shape[0]):\n",
        "        for j in range(Y.shape[1]):\n",
        "            Y[i, j] = (X[i:i + h, j:j + w] * K).sum()\n",
        "    return Y"
      ],
      "metadata": {
        "id": "oJQRlP32SYk8"
      },
      "execution_count": 5,
      "outputs": []
    },
    {
      "cell_type": "code",
      "source": [
        "X = torch.tensor([[0.0, 1.0, 2.0], [3.0, 4.0, 5.0], [6.0, 7.0, 8.0]])\n",
        "K = torch.tensor([[0.0, 1.0], [2.0, 3.0]])\n",
        "corr2d(X, K)"
      ],
      "metadata": {
        "colab": {
          "base_uri": "https://localhost:8080/"
        },
        "id": "J_w3PJXLTnXd",
        "outputId": "3bbc53e5-b1be-4d9c-ff65-ee3ff9ed4822"
      },
      "execution_count": 6,
      "outputs": [
        {
          "output_type": "execute_result",
          "data": {
            "text/plain": [
              "tensor([[19., 25.],\n",
              "        [37., 43.]])"
            ]
          },
          "metadata": {},
          "execution_count": 6
        }
      ]
    },
    {
      "cell_type": "markdown",
      "source": [
        "## Convolution Layer"
      ],
      "metadata": {
        "id": "oWSXYLV9Tq1V"
      }
    },
    {
      "cell_type": "code",
      "source": [
        "class Conv2D(nn.Module):\n",
        "    def __init__(self, kernel_size):\n",
        "        super().__init__()\n",
        "        self.weight = nn.Parameter(torch.rand(kernel_size))\n",
        "        self.bias = nn.Parameter(torch.zeros(1))\n",
        "\n",
        "    def forward(self, x):\n",
        "        return F.conv2d(x, self.weight, bias=self.bias)"
      ],
      "metadata": {
        "id": "dVmFq-d-TqRW"
      },
      "execution_count": 7,
      "outputs": []
    },
    {
      "cell_type": "markdown",
      "source": [
        "## Simple Edge detection"
      ],
      "metadata": {
        "id": "U7hSrIS7V1r0"
      }
    },
    {
      "cell_type": "code",
      "source": [
        "X = torch.ones((6, 8))\n",
        "X[:, 2:6] = 0\n",
        "X"
      ],
      "metadata": {
        "colab": {
          "base_uri": "https://localhost:8080/"
        },
        "id": "RgeS4wAbVYgF",
        "outputId": "b953400e-3102-4ab7-aa75-4047bd0ef5d8"
      },
      "execution_count": 8,
      "outputs": [
        {
          "output_type": "execute_result",
          "data": {
            "text/plain": [
              "tensor([[1., 1., 0., 0., 0., 0., 1., 1.],\n",
              "        [1., 1., 0., 0., 0., 0., 1., 1.],\n",
              "        [1., 1., 0., 0., 0., 0., 1., 1.],\n",
              "        [1., 1., 0., 0., 0., 0., 1., 1.],\n",
              "        [1., 1., 0., 0., 0., 0., 1., 1.],\n",
              "        [1., 1., 0., 0., 0., 0., 1., 1.]])"
            ]
          },
          "metadata": {},
          "execution_count": 8
        }
      ]
    },
    {
      "cell_type": "code",
      "source": [
        "X.shape"
      ],
      "metadata": {
        "colab": {
          "base_uri": "https://localhost:8080/"
        },
        "id": "Tt2eB7M9eOak",
        "outputId": "343508e2-bfae-42be-9d30-21c6b23515cc"
      },
      "execution_count": 9,
      "outputs": [
        {
          "output_type": "execute_result",
          "data": {
            "text/plain": [
              "torch.Size([6, 8])"
            ]
          },
          "metadata": {},
          "execution_count": 9
        }
      ]
    },
    {
      "cell_type": "code",
      "source": [
        "K = torch.tensor([[1.0, -1.0]])"
      ],
      "metadata": {
        "id": "VGFC1ShkV84L"
      },
      "execution_count": 10,
      "outputs": []
    },
    {
      "cell_type": "code",
      "source": [
        "K.shape"
      ],
      "metadata": {
        "colab": {
          "base_uri": "https://localhost:8080/"
        },
        "id": "0qGYmyEbeW3n",
        "outputId": "44b64e25-7ae7-472c-e9cd-16f8c7c33142"
      },
      "execution_count": 11,
      "outputs": [
        {
          "output_type": "execute_result",
          "data": {
            "text/plain": [
              "torch.Size([1, 2])"
            ]
          },
          "metadata": {},
          "execution_count": 11
        }
      ]
    },
    {
      "cell_type": "code",
      "source": [
        "Y = corr2d(X, K)\n",
        "Y"
      ],
      "metadata": {
        "colab": {
          "base_uri": "https://localhost:8080/"
        },
        "id": "HcJuE5_QV_pg",
        "outputId": "06c3aa4b-cdf0-4761-ebd2-517b962fb490"
      },
      "execution_count": 12,
      "outputs": [
        {
          "output_type": "execute_result",
          "data": {
            "text/plain": [
              "tensor([[ 0.,  1.,  0.,  0.,  0., -1.,  0.],\n",
              "        [ 0.,  1.,  0.,  0.,  0., -1.,  0.],\n",
              "        [ 0.,  1.,  0.,  0.,  0., -1.,  0.],\n",
              "        [ 0.,  1.,  0.,  0.,  0., -1.,  0.],\n",
              "        [ 0.,  1.,  0.,  0.,  0., -1.,  0.],\n",
              "        [ 0.,  1.,  0.,  0.,  0., -1.,  0.]])"
            ]
          },
          "metadata": {},
          "execution_count": 12
        }
      ]
    },
    {
      "cell_type": "code",
      "source": [
        "X.shape"
      ],
      "metadata": {
        "colab": {
          "base_uri": "https://localhost:8080/"
        },
        "id": "JdqCzrUpedHh",
        "outputId": "65e2bbe4-db72-41ed-ab1c-e862cd868c89"
      },
      "execution_count": 13,
      "outputs": [
        {
          "output_type": "execute_result",
          "data": {
            "text/plain": [
              "torch.Size([6, 8])"
            ]
          },
          "metadata": {},
          "execution_count": 13
        }
      ]
    },
    {
      "cell_type": "markdown",
      "source": [
        "We can now apply the kernel to the transposed image. As expected, it vanishes."
      ],
      "metadata": {
        "id": "r9gI2yqjWbI8"
      }
    },
    {
      "cell_type": "code",
      "source": [
        "X.t()"
      ],
      "metadata": {
        "colab": {
          "base_uri": "https://localhost:8080/"
        },
        "id": "CZ4q1ofUdfnX",
        "outputId": "236aff9c-2924-4d28-9b43-75df73f1b09e"
      },
      "execution_count": 14,
      "outputs": [
        {
          "output_type": "execute_result",
          "data": {
            "text/plain": [
              "tensor([[1., 1., 1., 1., 1., 1.],\n",
              "        [1., 1., 1., 1., 1., 1.],\n",
              "        [0., 0., 0., 0., 0., 0.],\n",
              "        [0., 0., 0., 0., 0., 0.],\n",
              "        [0., 0., 0., 0., 0., 0.],\n",
              "        [0., 0., 0., 0., 0., 0.],\n",
              "        [1., 1., 1., 1., 1., 1.],\n",
              "        [1., 1., 1., 1., 1., 1.]])"
            ]
          },
          "metadata": {},
          "execution_count": 14
        }
      ]
    },
    {
      "cell_type": "code",
      "source": [
        "corr2d(X.t(), K)"
      ],
      "metadata": {
        "colab": {
          "base_uri": "https://localhost:8080/"
        },
        "id": "e-UEZzmYWhaJ",
        "outputId": "ecb8e4e6-31bd-4ce1-a3bd-41100c0cc954"
      },
      "execution_count": 15,
      "outputs": [
        {
          "output_type": "execute_result",
          "data": {
            "text/plain": [
              "tensor([[0., 0., 0., 0., 0.],\n",
              "        [0., 0., 0., 0., 0.],\n",
              "        [0., 0., 0., 0., 0.],\n",
              "        [0., 0., 0., 0., 0.],\n",
              "        [0., 0., 0., 0., 0.],\n",
              "        [0., 0., 0., 0., 0.],\n",
              "        [0., 0., 0., 0., 0.],\n",
              "        [0., 0., 0., 0., 0.]])"
            ]
          },
          "metadata": {},
          "execution_count": 15
        }
      ]
    },
    {
      "cell_type": "markdown",
      "source": [
        "## Learning a Kernel"
      ],
      "metadata": {
        "id": "KTy9hLAxWmXM"
      }
    },
    {
      "cell_type": "code",
      "source": [
        "# Construct a two-dimensional convolutional layer with 1 output channel and a\n",
        "# kernel of shape (1, 2). For the sake of simplicity, we ignore the bias here\n",
        "conv2d = nn.LazyConv2d(1, kernel_size=(1, 2), bias=False)\n",
        "\n",
        "# The two-dimensional convolutional layer uses four-dimensional input and\n",
        "# output in the format of (example, channel, height, width), where the batch\n",
        "# size (number of examples in the batch) and the number of channels are both 1\n",
        "X1 = X.reshape((1, 1, 6, 8))\n",
        "Y1 = Y.reshape((1, 1, 6, 7))\n",
        "lr = 3e-2  # Learning rate"
      ],
      "metadata": {
        "id": "D_cCrBTBWlQK"
      },
      "execution_count": 16,
      "outputs": []
    },
    {
      "cell_type": "code",
      "source": [
        "for i in range(20):\n",
        "    Y_hat = conv2d(X1)\n",
        "    l = (Y_hat - Y1) ** 2\n",
        "    conv2d.zero_grad()\n",
        "    l.sum().backward()\n",
        "    # Update the kernel (Gradient Descend update)\n",
        "    conv2d.weight.data[:] -= lr * conv2d.weight.grad\n",
        "    if (i + 1) % 2 == 0:\n",
        "        print(f'epoch {i + 1}, loss {l.sum():.3f}')"
      ],
      "metadata": {
        "colab": {
          "base_uri": "https://localhost:8080/"
        },
        "id": "inOguaUHW2Nz",
        "outputId": "dfaa81e3-e6b5-4b26-bb30-71b6ad00baf8"
      },
      "execution_count": 17,
      "outputs": [
        {
          "output_type": "stream",
          "name": "stdout",
          "text": [
            "epoch 2, loss 12.264\n",
            "epoch 4, loss 3.596\n",
            "epoch 6, loss 1.233\n",
            "epoch 8, loss 0.465\n",
            "epoch 10, loss 0.184\n",
            "epoch 12, loss 0.074\n",
            "epoch 14, loss 0.030\n",
            "epoch 16, loss 0.012\n",
            "epoch 18, loss 0.005\n",
            "epoch 20, loss 0.002\n"
          ]
        }
      ]
    },
    {
      "cell_type": "code",
      "source": [
        "conv2d.weight.data.reshape((1, 2))"
      ],
      "metadata": {
        "colab": {
          "base_uri": "https://localhost:8080/"
        },
        "id": "P5ViBrOuYvJp",
        "outputId": "e4cf4503-81c8-4ebf-eece-3b3a487f6e00"
      },
      "execution_count": 18,
      "outputs": [
        {
          "output_type": "execute_result",
          "data": {
            "text/plain": [
              "tensor([[ 0.9952, -1.0045]])"
            ]
          },
          "metadata": {},
          "execution_count": 18
        }
      ]
    },
    {
      "cell_type": "code",
      "source": [
        "# X.shape"
      ],
      "metadata": {
        "id": "VrJ4VdWrgBp9"
      },
      "execution_count": 19,
      "outputs": []
    },
    {
      "cell_type": "code",
      "source": [
        "# For Diagonal tensor construction\n",
        "X2 = torchvision.transforms.functional.rotate(X1,45)\n",
        "X2"
      ],
      "metadata": {
        "colab": {
          "base_uri": "https://localhost:8080/"
        },
        "id": "tCVt6Epmfudh",
        "outputId": "9cbaa945-b403-49e1-8c2d-3da15184c786"
      },
      "execution_count": 20,
      "outputs": [
        {
          "output_type": "execute_result",
          "data": {
            "text/plain": [
              "tensor([[[[0., 0., 0., 0., 1., 1., 1., 0.],\n",
              "          [0., 0., 0., 0., 0., 1., 1., 1.],\n",
              "          [1., 0., 0., 0., 0., 0., 1., 1.],\n",
              "          [1., 1., 0., 0., 0., 0., 0., 1.],\n",
              "          [1., 1., 1., 0., 0., 0., 0., 0.],\n",
              "          [0., 1., 1., 1., 0., 0., 0., 0.]]]])"
            ]
          },
          "metadata": {},
          "execution_count": 20
        }
      ]
    },
    {
      "cell_type": "markdown",
      "source": [
        "1. Construct an image X with diagonal edges.\n",
        "  1. What happens if you apply the kernel K in this section to it? [2 Marks]\n",
        "  2. What happens if you transpose X? [1 Marks]\n",
        "  3. What happens if you transpose K? [1 Marks]"
      ],
      "metadata": {
        "id": "X2SXUj_kNBs_"
      }
    },
    {
      "cell_type": "code",
      "source": [
        "# Construct an image X with diagonal edges\n",
        "X = torch.tensor([[0.0, 0.0, 0.0, 0.0],\n",
        "                  [0.0, 1.0, 0.0, 0.0],\n",
        "                  [0.0, 0.0, 1.0, 0.0],\n",
        "                  [0.0, 0.0, 0.0, 1.0]])\n",
        "\n",
        "print(\"X with diagonal edges:\\n\", X)\n"
      ],
      "metadata": {
        "colab": {
          "base_uri": "https://localhost:8080/"
        },
        "id": "ijHHHPJANr4Z",
        "outputId": "5a180da0-7469-4fe5-f5d4-c92a421326cf"
      },
      "execution_count": 21,
      "outputs": [
        {
          "output_type": "stream",
          "name": "stdout",
          "text": [
            "X with diagonal edges:\n",
            " tensor([[0., 0., 0., 0.],\n",
            "        [0., 1., 0., 0.],\n",
            "        [0., 0., 1., 0.],\n",
            "        [0., 0., 0., 1.]])\n"
          ]
        }
      ]
    },
    {
      "cell_type": "code",
      "source": [
        "# Define the kernel K\n",
        "K = torch.tensor([[0.0, 1.0],\n",
        "                  [2.0, 3.0]])\n",
        "\n",
        "# Apply the corr2d function to X with kernel K\n",
        "Y = corr2d(X, K)\n",
        "print(\"Output after applying kernel K to X:\\n\", Y)\n"
      ],
      "metadata": {
        "colab": {
          "base_uri": "https://localhost:8080/"
        },
        "id": "JA1BXA8ENvHq",
        "outputId": "63ba0de1-4491-4de6-c6cf-582b353c5d26"
      },
      "execution_count": 22,
      "outputs": [
        {
          "output_type": "stream",
          "name": "stdout",
          "text": [
            "Output after applying kernel K to X:\n",
            " tensor([[3., 2., 0.],\n",
            "        [1., 3., 2.],\n",
            "        [0., 1., 3.]])\n"
          ]
        }
      ]
    },
    {
      "cell_type": "code",
      "source": [
        "# Transpose X\n",
        "X_T = X.T\n",
        "print(\"Transposed X (X^T):\\n\", X_T)\n",
        "\n",
        "# Apply the corr2d function to transposed X with kernel K\n",
        "Y_T = corr2d(X_T, K)\n",
        "print(\"Output after applying kernel K to transposed X:\\n\", Y_T)\n"
      ],
      "metadata": {
        "colab": {
          "base_uri": "https://localhost:8080/"
        },
        "id": "Hjpa8eqrNwwH",
        "outputId": "991fd4be-4d00-4e66-ff44-550fe3dcd76e"
      },
      "execution_count": 23,
      "outputs": [
        {
          "output_type": "stream",
          "name": "stdout",
          "text": [
            "Transposed X (X^T):\n",
            " tensor([[0., 0., 0., 0.],\n",
            "        [0., 1., 0., 0.],\n",
            "        [0., 0., 1., 0.],\n",
            "        [0., 0., 0., 1.]])\n",
            "Output after applying kernel K to transposed X:\n",
            " tensor([[3., 2., 0.],\n",
            "        [1., 3., 2.],\n",
            "        [0., 1., 3.]])\n"
          ]
        }
      ]
    },
    {
      "cell_type": "code",
      "source": [
        "# Transpose K\n",
        "K_T = K.T\n",
        "print(\"Transposed K (K^T):\\n\", K_T)\n",
        "\n",
        "# Apply the corr2d function to X with transposed kernel K\n",
        "Y_K_T = corr2d(X, K_T)\n",
        "print(\"Output after applying transposed kernel K to X:\\n\", Y_K_T)\n"
      ],
      "metadata": {
        "colab": {
          "base_uri": "https://localhost:8080/"
        },
        "id": "EW1BLSbnNy5j",
        "outputId": "58e3facb-41ba-4296-b4aa-4621e6739a73"
      },
      "execution_count": 24,
      "outputs": [
        {
          "output_type": "stream",
          "name": "stdout",
          "text": [
            "Transposed K (K^T):\n",
            " tensor([[0., 2.],\n",
            "        [1., 3.]])\n",
            "Output after applying transposed kernel K to X:\n",
            " tensor([[3., 1., 0.],\n",
            "        [2., 3., 1.],\n",
            "        [0., 2., 3.]])\n"
          ]
        }
      ]
    },
    {
      "cell_type": "markdown",
      "source": [
        "2. Design some kernels manually.\n",
        "  1. Given a directional vector $\\mathbf{v} = (v_1, v_2)$, derive an edge-detection kernel that detects edges orthogonal to $\\mathbf{v}$, i.e., edges in the direction $(v_2, -v_1)$. [1 Marks]"
      ],
      "metadata": {
        "id": "VXI0_916NRxo"
      }
    },
    {
      "cell_type": "code",
      "source": [
        "import torch\n",
        "\n",
        "def edge_detection_kernel(v1, v2):\n",
        "    \"\"\"\n",
        "    Creates an edge detection kernel orthogonal to the vector v = (v1, v2).\n",
        "    Edges are detected in the direction (v2, -v1).\n",
        "    \"\"\"\n",
        "    return torch.tensor([[v2, -v1], [v2, -v1]])\n",
        "\n",
        "# Example: v = (1, 0) detects vertical edges\n",
        "v1, v2 = 1, 0\n",
        "K_edge = edge_detection_kernel(v1, v2)\n",
        "print(\"Edge detection kernel orthogonal to vector v = (1, 0):\\n\", K_edge)\n"
      ],
      "metadata": {
        "colab": {
          "base_uri": "https://localhost:8080/"
        },
        "id": "xEEkZpVmOzo7",
        "outputId": "2b84d79e-41b6-4252-ad13-dd6e0954aff1"
      },
      "execution_count": 25,
      "outputs": [
        {
          "output_type": "stream",
          "name": "stdout",
          "text": [
            "Edge detection kernel orthogonal to vector v = (1, 0):\n",
            " tensor([[ 0, -1],\n",
            "        [ 0, -1]])\n"
          ]
        }
      ]
    },
    {
      "cell_type": "markdown",
      "source": [
        "  2.2. Derive a finite difference operator for the second derivative. What is the minimum size of the convolutional kernel associated with it? Which structures in images respond most strongly to it? [1 Marks]"
      ],
      "metadata": {
        "id": "KbTtnHXBOAIB"
      }
    },
    {
      "cell_type": "code",
      "source": [
        "def second_derivative_kernel():\n",
        "    \"\"\"\n",
        "    Creates a finite difference operator for the second derivative.\n",
        "    This kernel is the Laplacian operator.\n",
        "    \"\"\"\n",
        "    return torch.tensor([[0, 1, 0], [1, -4, 1], [0, 1, 0]])\n",
        "\n",
        "# Create the second derivative (Laplacian) kernel\n",
        "K_second_derivative = second_derivative_kernel()\n",
        "print(\"Second derivative (Laplacian) kernel:\\n\", K_second_derivative)\n"
      ],
      "metadata": {
        "colab": {
          "base_uri": "https://localhost:8080/"
        },
        "id": "e5U03At_O1xT",
        "outputId": "eac26f88-bc7c-4828-dfc7-b2442f0c8312"
      },
      "execution_count": 26,
      "outputs": [
        {
          "output_type": "stream",
          "name": "stdout",
          "text": [
            "Second derivative (Laplacian) kernel:\n",
            " tensor([[ 0,  1,  0],\n",
            "        [ 1, -4,  1],\n",
            "        [ 0,  1,  0]])\n"
          ]
        }
      ]
    },
    {
      "cell_type": "markdown",
      "source": [
        "   2.3. How would you design a blur kernel? Why might you want to use such a kernel? [1 Marks]"
      ],
      "metadata": {
        "id": "CMN-Ovk-OJCg"
      }
    },
    {
      "cell_type": "code",
      "source": [
        "def blur_kernel(box_size=3):\n",
        "    \"\"\"\n",
        "    Creates a simple box filter (mean blur kernel).\n",
        "    The box_size defines the size of the kernel.\n",
        "    \"\"\"\n",
        "    kernel = torch.ones((box_size, box_size)) / (box_size * box_size)\n",
        "    return kernel\n",
        "\n",
        "def gaussian_blur_kernel():\n",
        "    \"\"\"\n",
        "    Creates a 3x3 Gaussian blur kernel.\n",
        "    \"\"\"\n",
        "    return torch.tensor([[1, 2, 1], [2, 4, 2], [1, 2, 1]]) / 16.0\n",
        "\n",
        "# Box filter blur kernel (3x3)\n",
        "K_blur = blur_kernel(3)\n",
        "print(\"Box filter blur kernel:\\n\", K_blur)\n",
        "\n",
        "# Gaussian blur kernel (3x3)\n",
        "K_gaussian_blur = gaussian_blur_kernel()\n",
        "print(\"Gaussian blur kernel:\\n\", K_gaussian_blur)\n"
      ],
      "metadata": {
        "colab": {
          "base_uri": "https://localhost:8080/"
        },
        "id": "7bXrlQUBO4tr",
        "outputId": "b00af8de-ac3e-4852-d7c9-76b4fa2a1f84"
      },
      "execution_count": 27,
      "outputs": [
        {
          "output_type": "stream",
          "name": "stdout",
          "text": [
            "Box filter blur kernel:\n",
            " tensor([[0.1111, 0.1111, 0.1111],\n",
            "        [0.1111, 0.1111, 0.1111],\n",
            "        [0.1111, 0.1111, 0.1111]])\n",
            "Gaussian blur kernel:\n",
            " tensor([[0.0625, 0.1250, 0.0625],\n",
            "        [0.1250, 0.2500, 0.1250],\n",
            "        [0.0625, 0.1250, 0.0625]])\n"
          ]
        }
      ]
    },
    {
      "cell_type": "markdown",
      "source": [
        "\n",
        "  2.4. What is the minimum size of a kernel to obtain a derivative of order $d$? [1 Marks]"
      ],
      "metadata": {
        "id": "ON1P8UIMOSKN"
      }
    },
    {
      "cell_type": "code",
      "source": [
        "def derivative_kernel(d):\n",
        "    \"\"\"\n",
        "    Creates a finite difference kernel for the derivative of order d.\n",
        "    The minimum size of the kernel is (d+1)x(d+1).\n",
        "    \"\"\"\n",
        "    if d == 1:\n",
        "        # First derivative kernel (Sobel-like)\n",
        "        return torch.tensor([[-1, 0, 1], [-2, 0, 2], [-1, 0, 1]])  # Example: Sobel for x-gradient\n",
        "    elif d == 2:\n",
        "        # Second derivative kernel (Laplacian-like)\n",
        "        return torch.tensor([[0, 1, 0], [1, -4, 1], [0, 1, 0]])\n",
        "    else:\n",
        "        raise NotImplementedError(f\"Derivative of order {d} is not implemented.\")\n",
        "\n",
        "# Example for the first derivative (d = 1)\n",
        "K_first_derivative = derivative_kernel(1)\n",
        "print(\"First derivative (Sobel-like) kernel:\\n\", K_first_derivative)\n",
        "\n",
        "# Example for the second derivative (d = 2)\n",
        "K_second_derivative = derivative_kernel(2)\n",
        "print(\"Second derivative (Laplacian-like) kernel:\\n\", K_second_derivative)\n"
      ],
      "metadata": {
        "colab": {
          "base_uri": "https://localhost:8080/"
        },
        "id": "5u3g95X1O5ct",
        "outputId": "18a857cd-0e01-43fb-d335-6de68886a8bd"
      },
      "execution_count": 28,
      "outputs": [
        {
          "output_type": "stream",
          "name": "stdout",
          "text": [
            "First derivative (Sobel-like) kernel:\n",
            " tensor([[-1,  0,  1],\n",
            "        [-2,  0,  2],\n",
            "        [-1,  0,  1]])\n",
            "Second derivative (Laplacian-like) kernel:\n",
            " tensor([[ 0,  1,  0],\n",
            "        [ 1, -4,  1],\n",
            "        [ 0,  1,  0]])\n"
          ]
        }
      ]
    },
    {
      "cell_type": "markdown",
      "source": [
        "3. Create Covolution Layer to handle blur kernel. Apply it on designed input and output. [2 Marks]"
      ],
      "metadata": {
        "id": "CgUUtYjhNjoA"
      }
    },
    {
      "cell_type": "code",
      "source": [
        "import torch\n",
        "import torch.nn as nn\n",
        "import torch.nn.functional as F\n",
        "\n",
        "class BlurConv2D(nn.Module):\n",
        "    def __init__(self, blur_kernel):\n",
        "        super(BlurConv2D, self).__init__()\n",
        "        # Create a 2D convolutional layer with 1 input channel, 1 output channel, and kernel size matching the blur kernel\n",
        "        self.conv = nn.Conv2d(in_channels=1, out_channels=1, kernel_size=blur_kernel.shape, padding=1, bias=False)\n",
        "        # Initialize the weights of the convolutional layer to the blur kernel\n",
        "        self.conv.weight = nn.Parameter(blur_kernel.unsqueeze(0).unsqueeze(0))  # Shape [1, 1, H, W]\n",
        "\n",
        "    def forward(self, x):\n",
        "        return self.conv(x)\n",
        "\n",
        "# Create a simple 3x3 box blur kernel\n",
        "blur_kernel = torch.tensor([[1.0, 1.0, 1.0],\n",
        "                            [1.0, 1.0, 1.0],\n",
        "                            [1.0, 1.0, 1.0]]) / 9.0  # Normalize by the number of elements to average\n",
        "\n",
        "# Initialize the BlurConv2D layer with the blur kernel\n",
        "blur_conv_layer = BlurConv2D(blur_kernel)\n",
        "\n",
        "# Create an input image (6x6) with a sharp edge in the middle\n",
        "input_image = torch.tensor([[0.0, 0.0, 0.0, 1.0, 1.0, 1.0],\n",
        "                            [0.0, 0.0, 0.0, 1.0, 1.0, 1.0],\n",
        "                            [0.0, 0.0, 0.0, 1.0, 1.0, 1.0],\n",
        "                            [1.0, 1.0, 1.0, 0.0, 0.0, 0.0],\n",
        "                            [1.0, 1.0, 1.0, 0.0, 0.0, 0.0],\n",
        "                            [1.0, 1.0, 1.0, 0.0, 0.0, 0.0]])\n",
        "\n",
        "# Reshape the input to match the format expected by the Conv2d layer [batch_size, channels, height, width]\n",
        "input_image = input_image.unsqueeze(0).unsqueeze(0)  # Shape: [1, 1, 6, 6]\n",
        "\n",
        "# Apply the convolution layer to the input image\n",
        "output_image = blur_conv_layer(input_image)\n",
        "\n",
        "# Print the input and output images\n",
        "print(\"Input Image:\\n\", input_image.squeeze())\n",
        "print(\"Blurred Output Image:\\n\", output_image.squeeze().detach())\n"
      ],
      "metadata": {
        "colab": {
          "base_uri": "https://localhost:8080/"
        },
        "id": "NeS23sq7PLrf",
        "outputId": "485d1761-4ebd-44ab-c5a4-e7b59fa9bafa"
      },
      "execution_count": 29,
      "outputs": [
        {
          "output_type": "stream",
          "name": "stdout",
          "text": [
            "Input Image:\n",
            " tensor([[0., 0., 0., 1., 1., 1.],\n",
            "        [0., 0., 0., 1., 1., 1.],\n",
            "        [0., 0., 0., 1., 1., 1.],\n",
            "        [1., 1., 1., 0., 0., 0.],\n",
            "        [1., 1., 1., 0., 0., 0.],\n",
            "        [1., 1., 1., 0., 0., 0.]])\n",
            "Blurred Output Image:\n",
            " tensor([[0.0000, 0.0000, 0.2222, 0.4444, 0.6667, 0.4444],\n",
            "        [0.0000, 0.0000, 0.3333, 0.6667, 1.0000, 0.6667],\n",
            "        [0.2222, 0.3333, 0.4444, 0.5556, 0.6667, 0.4444],\n",
            "        [0.4444, 0.6667, 0.5556, 0.4444, 0.3333, 0.2222],\n",
            "        [0.6667, 1.0000, 0.6667, 0.3333, 0.0000, 0.0000],\n",
            "        [0.4444, 0.6667, 0.4444, 0.2222, 0.0000, 0.0000]])\n"
          ]
        }
      ]
    }
  ]
}